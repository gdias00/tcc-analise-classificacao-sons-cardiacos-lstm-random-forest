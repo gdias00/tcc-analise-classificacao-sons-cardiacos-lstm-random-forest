{
  "nbformat": 4,
  "nbformat_minor": 0,
  "metadata": {
    "colab": {
      "provenance": [],
      "collapsed_sections": [
        "KiTQ5l4SvBtf",
        "8tsNORQFEoHZ",
        "OnhZ_uUUE1jw",
        "aCfbvCULvFLZ"
      ]
    },
    "kernelspec": {
      "name": "python3",
      "display_name": "Python 3"
    },
    "language_info": {
      "name": "python"
    }
  },
  "cells": [
    {
      "cell_type": "code",
      "source": [
        "!pip install resampy"
      ],
      "metadata": {
        "colab": {
          "base_uri": "https://localhost:8080/"
        },
        "id": "lKYFjscKy04j",
        "outputId": "49daba69-6272-4541-e7db-521d4c5c2a84"
      },
      "execution_count": null,
      "outputs": [
        {
          "output_type": "stream",
          "name": "stdout",
          "text": [
            "Collecting resampy\n",
            "  Downloading resampy-0.4.3-py3-none-any.whl (3.1 MB)\n",
            "\u001b[2K     \u001b[90m━━━━━━━━━━━━━━━━━━━━━━━━━━━━━━━━━━━━━━━━\u001b[0m \u001b[32m3.1/3.1 MB\u001b[0m \u001b[31m8.0 MB/s\u001b[0m eta \u001b[36m0:00:00\u001b[0m\n",
            "\u001b[?25hRequirement already satisfied: numpy>=1.17 in /usr/local/lib/python3.10/dist-packages (from resampy) (1.25.2)\n",
            "Requirement already satisfied: numba>=0.53 in /usr/local/lib/python3.10/dist-packages (from resampy) (0.58.1)\n",
            "Requirement already satisfied: llvmlite<0.42,>=0.41.0dev0 in /usr/local/lib/python3.10/dist-packages (from numba>=0.53->resampy) (0.41.1)\n",
            "Installing collected packages: resampy\n",
            "Successfully installed resampy-0.4.3\n"
          ]
        }
      ]
    },
    {
      "cell_type": "code",
      "source": [
        "import resampy\n",
        "import numpy as np\n",
        "import pandas as pd\n",
        "import os\n",
        "import fnmatch\n",
        "import librosa\n",
        "from sklearn.model_selection import KFold\n",
        "from sklearn.ensemble import RandomForestClassifier\n",
        "from sklearn.metrics import roc_auc_score, roc_curve , auc"
      ],
      "metadata": {
        "id": "kp1ku2L9yz7H"
      },
      "execution_count": null,
      "outputs": []
    },
    {
      "cell_type": "code",
      "source": [
        "from google.colab import drive\n",
        "drive.mount('/content/drive')\n",
        "\n",
        "INPUT_DIR='/content/drive/MyDrive/TCC' #caminho para a pasta do projeto"
      ],
      "metadata": {
        "colab": {
          "base_uri": "https://localhost:8080/"
        },
        "id": "mYRdkY57yu6R",
        "outputId": "ed4bda15-e644-4bad-f7be-5dfe4c902711"
      },
      "execution_count": null,
      "outputs": [
        {
          "output_type": "stream",
          "name": "stdout",
          "text": [
            "Mounted at /content/drive\n"
          ]
        }
      ]
    },
    {
      "cell_type": "markdown",
      "source": [
        "##FUNÇÃO DE EXTRAÇAO DE CARACTERISTICAS"
      ],
      "metadata": {
        "id": "AqDdONjoe5vP"
      }
    },
    {
      "cell_type": "code",
      "source": [
        "def extract_audio_features(music_folders, columns, genre_list):\n",
        "    features_list = []\n",
        "    for folder in music_folders:\n",
        "        for genre in genre_list:\n",
        "            files = fnmatch.filter(os.listdir(folder), genre)\n",
        "            label = \"normal\" if \"normal\" in genre else \"abnormal\"  # Define o rótulo da classe\n",
        "            for file in files:\n",
        "                x, sr = librosa.load(folder + file, duration=5, res_type='kaiser_fast')\n",
        "                features = [np.mean(x) for x in librosa.feature.mfcc(y= x, sr=sr)]\n",
        "                features.append(sum(librosa.zero_crossings(x)))\n",
        "                features.append(np.mean(librosa.feature.spectral_centroid(y=x)))\n",
        "                features.append(np.mean(librosa.feature.spectral_rolloff(y=x, sr=sr)))\n",
        "                features.append(np.mean(librosa.feature.chroma_stft(y=x, sr=sr)))\n",
        "                features.append(label)\n",
        "                features.append(file)\n",
        "                features_list.append(features)\n",
        "    return pd.DataFrame(features_list, columns=columns)\n",
        "\n",
        "music_folders = [INPUT_DIR + \"/set_b/\"]\n",
        "column_names = [\"mfcc_\" + str(i) for i in range(20)] + [\"zero_crossings\", \"spectral_centroid\", \"spectral_rolloff\", \"chroma_stft\", \"genre\", \"file_name\"]\n",
        "genre_list = [\"normal*.wav\", \"extrastole*.wav\", \"murmur*.wav\"]\n",
        "music_df = extract_audio_features(music_folders, column_names, genre_list)\n",
        "X = music_df.iloc[:,0:24]\n",
        "y = music_df[\"genre\"]\n",
        "\n",
        "from sklearn.preprocessing import LabelEncoder\n",
        "le = LabelEncoder().fit(y)\n",
        "y = le.transform(y)\n",
        "\n",
        "\n"
      ],
      "metadata": {
        "id": "jOPIafa5fAZx"
      },
      "execution_count": null,
      "outputs": []
    },
    {
      "cell_type": "markdown",
      "source": [
        "# CRIAÇÃO DOS FOLDS EM DRIVE\n"
      ],
      "metadata": {
        "id": "kEORwfDIyV2k"
      }
    },
    {
      "cell_type": "markdown",
      "source": [
        "## **STandardScaler**"
      ],
      "metadata": {
        "id": "pSE_4ig8bfp_"
      }
    },
    {
      "cell_type": "code",
      "source": [
        "from sklearn.preprocessing import StandardScaler\n",
        "\n",
        "base_dir = os.path.join(INPUT_DIR, \"Folds\")\n",
        "\n",
        "# Implementação da validação cruzada k-fold com k=5\n",
        "kf = KFold(n_splits=5, shuffle=True, random_state=2612)\n",
        "\n",
        "\n",
        "scaler = StandardScaler()\n",
        "X_scaled = scaler.fit_transform(X)\n",
        "\n",
        "for fold, (train_index, test_index) in enumerate(kf.split(X_scaled)):\n",
        "    X_train, X_test = X_scaled[train_index], X_scaled[test_index]\n",
        "    y_train, y_test = y[train_index], y[test_index]\n",
        "    print(f\"Fold {fold}: Train Mean = {np.mean(X_train, axis=0)}, Test Mean = {np.mean(X_test, axis=0)}\")\n",
        "# Construir o caminho para o arquivo de cada fold\n",
        "    fold_path = os.path.join(base_dir, f'fold_{fold}_data.npz')\n",
        "\n",
        "    # Salvar em arquivos\n",
        "    np.savez_compressed(fold_path, X_train=X_train, X_test=X_test, y_train=y_train, y_test=y_test)\n",
        "\n",
        "# Supondo que o primeiro 320 são normais e o restante são anormais\n",
        "labels = np.array([1]*320 + [0]*141)  # 1 para normal, 0 para anormal\n",
        "fold = 0\n",
        "for train_index, test_index in kf.split(labels):\n",
        "    train_labels, test_labels = labels[train_index], labels[test_index]\n",
        "    print(f\"Fold {fold}\")\n",
        "    print(f\"Training normal: {np.sum(train_labels == 1)}, Training abnormal: {np.sum(train_labels == 0)}\")\n",
        "    print(f\"Testing normal: {np.sum(test_labels == 1)}, Testing abnormal: {np.sum(test_labels == 0)}\")\n",
        "    fold += 1"
      ],
      "metadata": {
        "colab": {
          "base_uri": "https://localhost:8080/"
        },
        "id": "z2bAc4cdKQwG",
        "outputId": "1f517b98-3814-4942-be3e-4ca2dd0fdf83"
      },
      "execution_count": null,
      "outputs": [
        {
          "output_type": "stream",
          "name": "stdout",
          "text": [
            "Fold 0: Train Mean = [ 0.00367976  0.02688045 -0.015133   -0.03208767 -0.02336793  0.01066751\n",
            " -0.01243531 -0.03373171 -0.02123646  0.01251501  0.00487582 -0.03036375\n",
            " -0.0232717   0.02642832  0.02864365 -0.02027773 -0.03482085 -0.03271456\n",
            " -0.01676704 -0.03853883  0.03402203  0.03304353  0.02523495 -0.0184632 ], Test Mean = [-0.01456077 -0.10636565  0.05988111  0.12697057  0.09246666 -0.0422112\n",
            "  0.04920639  0.13347602  0.08403243 -0.04952175 -0.01929356  0.12014903\n",
            "  0.09208588 -0.10457657 -0.11334261  0.08023874  0.13778571  0.12945114\n",
            "  0.06634701  0.15249773 -0.13462483 -0.13075289 -0.09985441  0.07305867]\n",
            "Fold 1: Train Mean = [ 0.03059354 -0.01023428  0.01174628  0.01203299 -0.00933061 -0.02125587\n",
            "  0.00624184  0.02706653  0.01299882 -0.02429672 -0.02559883  0.00975919\n",
            "  0.01747215 -0.00703134 -0.0062247   0.03435298  0.03516411  0.01156844\n",
            " -0.01729833  0.00844179 -0.00880949 -0.0086468  -0.00819968  0.02747846], Test Mean = [-0.12270669  0.04104836 -0.04711279 -0.04826274  0.03742384  0.08525452\n",
            " -0.02503522 -0.10856032 -0.05213656  0.09745096  0.10267355 -0.03914286\n",
            " -0.0700785   0.02820179  0.02496647 -0.13778534 -0.14103868 -0.0463995\n",
            "  0.06938134 -0.03385894  0.0353337   0.0346812   0.03288786 -0.11021254]\n",
            "Fold 2: Train Mean = [-0.00842912 -0.03180043 -0.01707513  0.01354608  0.01923284  0.00199921\n",
            "  0.01444289  0.02273239  0.02099815  0.01344868  0.02157519  0.03456603\n",
            "  0.03029536  0.01905418  0.02092661  0.04378077  0.02727949  0.01627828\n",
            "  0.01551017  0.04731353  0.01183784 -0.00530452  0.00128291  0.00499611], Test Mean = [ 0.03380811  0.12754738  0.06848614 -0.05433154 -0.0771404  -0.00801859\n",
            " -0.05792856 -0.09117665 -0.08422083 -0.05394089 -0.08653526 -0.13863985\n",
            " -0.12151074 -0.07642384 -0.08393391 -0.17559895 -0.10941448 -0.06529004\n",
            " -0.06220926 -0.1897684  -0.04748003  0.02127574 -0.0051456  -0.02003876]\n",
            "Fold 3: Train Mean = [-0.02947573  0.00474271  0.00795968  0.0011376  -0.00714794 -0.01192722\n",
            " -0.02019023 -0.01272654 -0.01475662 -0.02111421 -0.02125754 -0.01412712\n",
            " -0.01199713 -0.02418487 -0.03388642 -0.04272388 -0.01755969  0.00875572\n",
            "  0.01690683 -0.01404629 -0.00822678  0.00604419 -0.00161021 -0.00888846], Test Mean = [ 0.11822331 -0.0190224  -0.03192522 -0.00456276  0.02866945  0.04783854\n",
            "  0.08098038  0.05104448  0.05918687  0.08468634  0.08526123  0.05666205\n",
            "  0.04811891  0.09700236  0.13591401  0.1713599   0.07042961 -0.03511804\n",
            " -0.06781108  0.05633785  0.03299655 -0.02424248  0.00645833  0.03565045]\n",
            "Fold 4: Train Mean = [ 3.64153061e-03  1.04843952e-02  1.24611656e-02  5.28405159e-03\n",
            "  2.05503157e-02  2.05452817e-02  1.19071050e-02 -3.43208499e-03\n",
            "  1.93856178e-03  1.94811557e-02  2.04185769e-02  8.33597102e-05\n",
            " -1.25617462e-02 -1.41946659e-02 -9.38151181e-03 -1.51871024e-02\n",
            " -1.01574404e-02 -3.97653506e-03  1.60293826e-03 -3.27464542e-03\n",
            " -2.87314063e-02 -2.50468522e-02 -1.66395836e-02 -5.17295969e-03], Test Mean = [-0.0146057  -0.04205154 -0.04998011 -0.02119364 -0.08242464 -0.08240445\n",
            " -0.04775785  0.01376565 -0.00777532 -0.07813637 -0.08189625 -0.00033434\n",
            "  0.05038353  0.05693295  0.03762802  0.06091349  0.04074017  0.01594936\n",
            " -0.00642918  0.01313418  0.11523792  0.10045966  0.0667392   0.02074807]\n",
            "Fold 0\n",
            "Training normal: 263, Training abnormal: 105\n",
            "Testing normal: 57, Testing abnormal: 36\n",
            "Fold 1\n",
            "Training normal: 252, Training abnormal: 117\n",
            "Testing normal: 68, Testing abnormal: 24\n",
            "Fold 2\n",
            "Training normal: 257, Training abnormal: 112\n",
            "Testing normal: 63, Testing abnormal: 29\n",
            "Fold 3\n",
            "Training normal: 255, Training abnormal: 114\n",
            "Testing normal: 65, Testing abnormal: 27\n",
            "Fold 4\n",
            "Training normal: 253, Training abnormal: 116\n",
            "Testing normal: 67, Testing abnormal: 25\n"
          ]
        }
      ]
    },
    {
      "cell_type": "markdown",
      "source": [
        "#  FPR e TPR"
      ],
      "metadata": {
        "id": "SQ4ddIKKNEXH"
      }
    },
    {
      "cell_type": "markdown",
      "source": [
        "## Geração das métricas"
      ],
      "metadata": {
        "id": "sZVQIVP8E-EW"
      }
    },
    {
      "cell_type": "code",
      "source": [
        "from sklearn.metrics import accuracy_score\n",
        "def train_model(fold, base_dir):\n",
        "    fold_path = os.path.join(base_dir, f'fold_{fold}_data.npz')\n",
        "\n",
        "    # Carregar dados\n",
        "    data = np.load(fold_path)\n",
        "    X_train = data['X_train']\n",
        "    y_train = data['y_train']\n",
        "    X_test = data['X_test']\n",
        "    y_test = data['y_test']\n",
        "\n",
        "    # Inicializar e treinar o modelo\n",
        "    forest = RandomForestClassifier(max_depth=14, max_features=4, min_samples_split=5, n_estimators=180)\n",
        "    forest.fit(X_train, y_train)\n",
        "\n",
        "    # Prever probabilidades\n",
        "    y_pred_proba = forest.predict_proba(X_test)[:, 1]  # obter somente probabilidades da classe positiva\n",
        "\n",
        "    y_pred = forest.predict(X_test)\n",
        "\n",
        "    # Calcular ROC AUC diretamente e calcular fpr, tpr para plotar a curva ROC\n",
        "    roc_auc = roc_auc_score(y_test, y_pred_proba)\n",
        "    fpr, tpr, _ = roc_curve(y_test, y_pred_proba)\n",
        "    acc = accuracy_score(y_test, y_pred)  # Calcular a acurácia\n",
        "    print(f\"Fold {fold}, accs: {acc}\")\n",
        "    print(f\"Fold {fold}, roc_auc: {roc_auc}\")\n",
        "    return fpr, tpr, roc_auc, acc\n",
        "\n",
        "# Parâmetro 'base_dir' precisa ser definido antes de chamar a função train_model\n",
        "base_dir = os.path.join(INPUT_DIR, \"Folds\")\n",
        "\n",
        "# Treinar o modelo e avaliar\n",
        "results = [train_model(fold, base_dir) for fold in range(5)]\n",
        "roc_auc_scores = [result[2] for result in results]\n",
        "accs = [result[3] for result in results]"
      ],
      "metadata": {
        "id": "gbnPWa1dNQlE",
        "colab": {
          "base_uri": "https://localhost:8080/"
        },
        "outputId": "f7464615-4ded-4071-a62d-83f9a5f64c82"
      },
      "execution_count": null,
      "outputs": [
        {
          "output_type": "stream",
          "name": "stdout",
          "text": [
            "Fold 0, accs: 0.7526881720430108\n",
            "Fold 0, roc_auc: 0.665948275862069\n",
            "Fold 1, accs: 0.8043478260869565\n",
            "Fold 1, roc_auc: 0.7016967706622879\n",
            "Fold 2, accs: 0.717391304347826\n",
            "Fold 2, roc_auc: 0.62109375\n",
            "Fold 3, accs: 0.7065217391304348\n",
            "Fold 3, roc_auc: 0.5576923076923077\n",
            "Fold 4, accs: 0.75\n",
            "Fold 4, roc_auc: 0.6803503010399562\n"
          ]
        }
      ]
    },
    {
      "cell_type": "code",
      "source": [
        "print(\"ROC AUC Scores:\", roc_auc_scores)\n",
        "print(\"ACCScores:\", accs)"
      ],
      "metadata": {
        "colab": {
          "base_uri": "https://localhost:8080/"
        },
        "id": "RRknS7XX2jKx",
        "outputId": "45d5be2a-3697-4711-83d1-5f48e8d62a07"
      },
      "execution_count": null,
      "outputs": [
        {
          "output_type": "stream",
          "name": "stdout",
          "text": [
            "ROC AUC Scores: [0.665948275862069, 0.7016967706622879, 0.62109375, 0.5576923076923077, 0.6803503010399562]\n",
            "ACCScores: [0.7526881720430108, 0.8043478260869565, 0.717391304347826, 0.7065217391304348, 0.75]\n"
          ]
        }
      ]
    },
    {
      "cell_type": "code",
      "source": [
        "print(\"Mean ROC AUC:\", np.mean(roc_auc_scores))\n",
        "print(\"Mean ACC:\", np.mean(accs))"
      ],
      "metadata": {
        "colab": {
          "base_uri": "https://localhost:8080/"
        },
        "id": "XadWLS38TtN-",
        "outputId": "8bf84722-c16e-4390-b0b1-242c27a14427"
      },
      "execution_count": null,
      "outputs": [
        {
          "output_type": "stream",
          "name": "stdout",
          "text": [
            "Mean ROC AUC: 0.6714687713803491\n",
            "Mean ACC: 0.7679055633473586\n"
          ]
        }
      ]
    }
  ]
}