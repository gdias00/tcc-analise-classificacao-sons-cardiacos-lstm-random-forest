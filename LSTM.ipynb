{
  "cells": [
    {
      "cell_type": "markdown",
      "metadata": {
        "id": "6Yf4Nsw899-3"
      },
      "source": [
        "# Ambiente configurado"
      ]
    },
    {
      "cell_type": "code",
      "execution_count": null,
      "metadata": {
        "colab": {
          "base_uri": "https://localhost:8080/"
        },
        "id": "XtnHpVOph3Pv",
        "outputId": "c87ae1dd-84bc-4961-b80c-da53a9b41ada"
      },
      "outputs": [
        {
          "output_type": "stream",
          "name": "stdout",
          "text": [
            "Collecting python_speech_features\n",
            "  Downloading python_speech_features-0.6.tar.gz (5.6 kB)\n",
            "  Preparing metadata (setup.py) ... \u001b[?25l\u001b[?25hdone\n",
            "Building wheels for collected packages: python_speech_features\n",
            "  Building wheel for python_speech_features (setup.py) ... \u001b[?25l\u001b[?25hdone\n",
            "  Created wheel for python_speech_features: filename=python_speech_features-0.6-py3-none-any.whl size=5870 sha256=fc4336cee0f3c6659b4669297e22ca214cf58d6dea5efcef3673bc16c72b6ef1\n",
            "  Stored in directory: /root/.cache/pip/wheels/5a/9e/68/30bad9462b3926c29e315df16b562216d12bdc215f4d240294\n",
            "Successfully built python_speech_features\n",
            "Installing collected packages: python_speech_features\n",
            "Successfully installed python_speech_features-0.6\n"
          ]
        }
      ],
      "source": [
        "!pip install python_speech_features\n"
      ]
    },
    {
      "cell_type": "code",
      "execution_count": null,
      "metadata": {
        "colab": {
          "base_uri": "https://localhost:8080/"
        },
        "id": "mn_eu_mr7xxv",
        "outputId": "6280423a-4189-4be4-ec90-46a72d0b7b60"
      },
      "outputs": [
        {
          "output_type": "stream",
          "name": "stdout",
          "text": [
            "Populating the interactive namespace from numpy and matplotlib\n"
          ]
        }
      ],
      "source": [
        "import warnings\n",
        "warnings.filterwarnings(\"ignore\")\n",
        "%matplotlib inline\n",
        "%pylab inline\n",
        "import numpy as np\n",
        "import os\n",
        "import pandas as pd\n",
        "import soundfile as sf\n",
        "%config InlineBackend.figure_format = 'retina'\n",
        "import tensorflow as tf;\n",
        "import keras;\n",
        "from keras.models import Sequential\n",
        "from keras.layers import LSTM, Dense, Dropout\n",
        "from sklearn.model_selection import KFold\n",
        "from sklearn.metrics import roc_auc_score, roc_curve\n",
        "from python_speech_features import mfcc"
      ]
    },
    {
      "cell_type": "code",
      "execution_count": null,
      "metadata": {
        "colab": {
          "base_uri": "https://localhost:8080/"
        },
        "id": "N1xGdtMr7vCD",
        "outputId": "a83db70f-f9e4-4560-8601-6073f8bb332c"
      },
      "outputs": [
        {
          "output_type": "stream",
          "name": "stdout",
          "text": [
            "Mounted at /content/drive\n"
          ]
        }
      ],
      "source": [
        "from google.colab import drive\n",
        "drive.mount('/content/drive')"
      ]
    },
    {
      "cell_type": "markdown",
      "source": [
        "# Treino e teste"
      ],
      "metadata": {
        "id": "ri4vAM5Coh2m"
      }
    },
    {
      "cell_type": "code",
      "execution_count": null,
      "metadata": {
        "colab": {
          "base_uri": "https://localhost:8080/"
        },
        "id": "t5JH0VElYRTX",
        "outputId": "59741ad7-b96c-4d6f-c31f-3c5c8f148743"
      },
      "outputs": [
        {
          "output_type": "stream",
          "name": "stdout",
          "text": [
            "3/3 [==============================] - 1s 5ms/step\n",
            "Fold 0, roc_auc: 0.6910331384015594\n",
            "Fold 0, Accuracy: 0.6881720423698425\n",
            "3/3 [==============================] - 1s 5ms/step\n",
            "Fold 1, roc_auc: 0.7064950980392157\n",
            "Fold 1, Accuracy: 0.782608687877655\n",
            "3/3 [==============================] - 1s 5ms/step\n",
            "Fold 2, roc_auc: 0.705528188286809\n",
            "Fold 2, Accuracy: 0.72826087474823\n",
            "3/3 [==============================] - 1s 5ms/step\n",
            "Fold 3, roc_auc: 0.7458689458689459\n",
            "Fold 3, Accuracy: 0.77173912525177\n"
          ]
        },
        {
          "output_type": "stream",
          "name": "stderr",
          "text": [
            "WARNING:tensorflow:5 out of the last 13 calls to <function Model.make_predict_function.<locals>.predict_function at 0x79c802a2ecb0> triggered tf.function retracing. Tracing is expensive and the excessive number of tracings could be due to (1) creating @tf.function repeatedly in a loop, (2) passing tensors with different shapes, (3) passing Python objects instead of tensors. For (1), please define your @tf.function outside of the loop. For (2), @tf.function has reduce_retracing=True option that can avoid unnecessary retracing. For (3), please refer to https://www.tensorflow.org/guide/function#controlling_retracing and https://www.tensorflow.org/api_docs/python/tf/function for  more details.\n"
          ]
        },
        {
          "output_type": "stream",
          "name": "stdout",
          "text": [
            "3/3 [==============================] - 1s 6ms/step\n",
            "Fold 4, roc_auc: 0.6155223880597015\n",
            "Fold 4, Accuracy: 0.72826087474823\n",
            "CPU times: user 4min 3s, sys: 14 s, total: 4min 17s\n",
            "Wall time: 4min 26s\n"
          ]
        }
      ],
      "source": [
        "%%time\n",
        "from keras.callbacks import EarlyStopping\n",
        "INPUT_DIR='/content/drive/MyDrive/TCC'\n",
        "def build_lstm_model(input_shape):\n",
        "    model = Sequential([\n",
        "        LSTM(units=64, input_shape=input_shape, return_sequences=True),\n",
        "        LSTM(units=32, input_shape=input_shape, return_sequences=False),# 'return_sequences' é False se você não está empilhando outra camada LSTM depois desta\n",
        "        Dense(1, activation='sigmoid')\n",
        "    ])\n",
        "    model.compile(optimizer='adam', loss='binary_crossentropy', metrics=['accuracy'])\n",
        "    return model\n",
        "\n",
        "\n",
        "def train_model(fold, base_dir):\n",
        "    fold_path = os.path.join(base_dir, f'fold_{fold}_data.npz')\n",
        "\n",
        "    # Carregar dados\n",
        "    data = np.load(fold_path)\n",
        "    X_train = data['X_train']\n",
        "    y_train = data['y_train']\n",
        "    X_test = data['X_test']\n",
        "    y_test = data['y_test']\n",
        "\n",
        "    # Construir o modelo\n",
        "    model = build_lstm_model((24, 1))\n",
        "\n",
        "    # Configurar retorno de chamada de parada antecipada\n",
        "    early_stopping = EarlyStopping(monitor='val_loss', patience=75, restore_best_weights=True)\n",
        "\n",
        "    # Treinar o modelo com parada antecipada\n",
        "    history = model.fit(X_train, y_train, epochs=2500, batch_size=8, validation_data=(X_test, y_test), callbacks=[early_stopping], verbose=0)\n",
        "\n",
        "    # Avaliar o modelo\n",
        "    _, accuracy = model.evaluate(X_test, y_test, verbose=0)\n",
        "\n",
        "\n",
        "    # Fazer previsões\n",
        "    y_pred_proba = model.predict(X_test).flatten()\n",
        "    roc_auc = roc_auc_score(y_test, y_pred_proba)\n",
        "    fpr, tpr, _ = roc_curve(y_test, y_pred_proba)\n",
        "    print(f\"Fold {fold}, roc_auc: {roc_auc}\")\n",
        "    print(f\"Fold {fold}, Accuracy: {accuracy}\")\n",
        "    return fpr, tpr, roc_auc, accuracy\n",
        "\n",
        "\n",
        "\n",
        "# Pasta com os k-folds\n",
        "base_dir = os.path.join(INPUT_DIR, \"Folds\")\n",
        "\n",
        "# Treinar o modelo e avaliar\n",
        "results = [train_model(fold, base_dir) for fold in range(5)]\n",
        "roc_auc_scores = [result[2] for result in results]\n",
        "acc = [result[3] for result in results]"
      ]
    },
    {
      "cell_type": "code",
      "execution_count": null,
      "metadata": {
        "colab": {
          "base_uri": "https://localhost:8080/"
        },
        "id": "A3DaTWUjky3W",
        "outputId": "366d8cc6-c9e4-408b-c5b5-85a85b2446bc"
      },
      "outputs": [
        {
          "output_type": "stream",
          "name": "stdout",
          "text": [
            "Mean ROC AUC: 0.6919724019191967\n",
            "Mean ACC: 0.7398316979408264\n"
          ]
        }
      ],
      "source": [
        "print(\"Mean ROC AUC:\", np.mean(roc_auc_scores))\n",
        "print(\"Mean ACC:\", np.mean(acc))"
      ]
    },
    {
      "cell_type": "code",
      "execution_count": null,
      "metadata": {
        "colab": {
          "base_uri": "https://localhost:8080/"
        },
        "id": "3PZDI_fmAVaV",
        "outputId": "beecd7d6-24ef-4fca-bebc-2be88151f11b"
      },
      "outputs": [
        {
          "name": "stdout",
          "output_type": "stream",
          "text": [
            "ROC AUC Scores: [0.6244612068965517, 0.7383689107827038, 0.6785714285714286, 0.6328671328671329, 0.6962233169129721]\n",
            "ACCScores: [0.7204301357269287, 0.77173912525177, 0.717391312122345, 0.75, 0.717391312122345]\n"
          ]
        }
      ],
      "source": [
        "print(\"ROC AUC Scores:\", roc_auc_scores)\n",
        "print(\"ACCScores:\", acc)"
      ]
    }
  ],
  "metadata": {
    "accelerator": "GPU",
    "colab": {
      "gpuType": "T4",
      "provenance": []
    },
    "kernelspec": {
      "display_name": "Python 3",
      "name": "python3"
    },
    "language_info": {
      "name": "python"
    }
  },
  "nbformat": 4,
  "nbformat_minor": 0
}